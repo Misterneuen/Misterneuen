{
 "cells": [
  {
   "cell_type": "code",
   "execution_count": 3,
   "metadata": {},
   "outputs": [
    {
     "name": "stdout",
     "output_type": "stream",
     "text": [
      "BTCUSDT price is 16832.66000000\n",
      "DOGEUSDT price is 0.07575000\n",
      "LTCUSDT price is 69.94000000\n"
     ]
    }
   ],
   "source": [
    "\n",
    "# Import libraries\n",
    "import requests\n",
    "import json\n",
    "\n",
    "# Defining Binance API URL\n",
    "key = \"https://api.binance.com/api/v3/ticker/price?symbol=\"\n",
    "\n",
    "# Making list for multiple crypto's\n",
    "currencies = [\"BTCUSDT\", \"DOGEUSDT\", \"LTCUSDT\"]\n",
    "j = 0\n",
    "\n",
    "# running loop to print all crypto prices\n",
    "for i in currencies:\n",
    "\n",
    "    # completing API for request\n",
    "    url = key+currencies[j]\n",
    "    data = requests.get(url)\n",
    "    data = data.json()\n",
    "    j = j+1\n",
    "    print(f\"{data['symbol']} price is {data['price']}\")"
   ]
  },
  {
   "cell_type": "code",
   "execution_count": null,
   "metadata": {
    "collapsed": true
   },
   "outputs": [],
   "source": []
  }
 ],
 "metadata": {
  "kernelspec": {
   "display_name": "Python 3",
   "language": "python",
   "name": "python3"
  },
  "language_info": {
   "codemirror_mode": {
    "name": "ipython",
    "version": 3
   },
   "file_extension": ".py",
   "mimetype": "text/x-python",
   "name": "python",
   "nbconvert_exporter": "python",
   "pygments_lexer": "ipython3",
   "version": "3.6.1"
  }
 },
 "nbformat": 4,
 "nbformat_minor": 2
}
